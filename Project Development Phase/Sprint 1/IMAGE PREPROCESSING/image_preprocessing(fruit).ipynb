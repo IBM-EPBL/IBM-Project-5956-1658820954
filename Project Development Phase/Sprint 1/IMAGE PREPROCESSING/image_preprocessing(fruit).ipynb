{
  "nbformat": 4,
  "nbformat_minor": 0,
  "metadata": {
    "colab": {
      "provenance": []
    },
    "kernelspec": {
      "name": "python3",
      "display_name": "Python 3"
    },
    "language_info": {
      "name": "python"
    },
    "gpuClass": "standard"
  },
  "cells": [
    {
      "cell_type": "markdown",
      "source": [
        "### **Image Preprocessing for fruit dataset**"
      ],
      "metadata": {
        "id": "Q7mhamJWIxR6"
      }
    },
    {
      "cell_type": "code",
      "source": [
        "from tensorflow.keras.preprocessing.image import ImageDataGenerator"
      ],
      "metadata": {
        "id": "-8AAItn82mbM"
      },
      "execution_count": null,
      "outputs": []
    },
    {
      "cell_type": "code",
      "source": [
        "train_datagen = ImageDataGenerator(rescale = 1./255,\n",
        "                                   shear_range = 0.2,\n",
        "                                   zoom_range = 0.2,\n",
        "                                   horizontal_flip = True)\n",
        "\n",
        "test_datagen = ImageDataGenerator(rescale = 1./255)"
      ],
      "metadata": {
        "id": "-sO6W6md4aGU"
      },
      "execution_count": null,
      "outputs": []
    },
    {
      "cell_type": "code",
      "source": [
        "training_set = train_datagen.flow_from_directory('/content/drive/MyDrive/plant_dataset/Veg-dataset/train_set',target_size=(224,224),batch_size=32,class_mode='categorical')"
      ],
      "metadata": {
        "id": "xPIwZc5g55Rd"
      },
      "execution_count": null,
      "outputs": []
    },
    {
      "cell_type": "code",
      "source": [
        "test_set = train_datagen.flow_from_directory('/content/drive/MyDrive/plant_dataset/Veg-dataset/test_set',target_size=(224,224),batch_size=32,class_mode='categorical')"
      ],
      "metadata": {
        "colab": {
          "base_uri": "https://localhost:8080/"
        },
        "id": "WKBQyRlp6awE",
        "outputId": "66b8bf1b-320f-4b91-89cf-4794581e655d"
      },
      "execution_count": null,
      "outputs": [
        {
          "output_type": "stream",
          "name": "stdout",
          "text": [
            "Found 1686 images belonging to 6 classes.\n"
          ]
        }
      ]
    }
  ]
}
