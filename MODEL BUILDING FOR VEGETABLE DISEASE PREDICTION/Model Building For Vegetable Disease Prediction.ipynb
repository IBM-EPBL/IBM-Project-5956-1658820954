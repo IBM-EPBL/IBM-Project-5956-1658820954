{
 "cells": [
  {
   "cell_type": "code",
   "execution_count": 1,
   "id": "2cd755c1",
   "metadata": {},
   "outputs": [
    {
     "name": "stdout",
     "output_type": "stream",
     "text": [
      " Volume in drive C is Operating Sys\n",
      " Volume Serial Number is FA6A-2B90\n",
      "\n",
      " Directory of C:\\Users\\ADMIN\n",
      "\n",
      "04-11-2022  01.58 PM    <DIR>          .\n",
      "04-11-2022  01.58 PM    <DIR>          ..\n",
      "09-10-2022  02.52 PM    <DIR>          .android\n",
      "12-11-2021  01.45 PM    <DIR>          .cache\n",
      "11-04-2022  03.39 PM    <DIR>          .conda\n",
      "05-09-2021  10.48 PM                25 .condarc\n",
      "18-05-2021  05.24 PM    <DIR>          .config\n",
      "05-09-2021  10.48 PM    <DIR>          .continuum\n",
      "12-04-2022  01.37 PM                17 .dotty_history\n",
      "09-09-2021  11.52 PM    <DIR>          .eclipse\n",
      "20-11-2021  02.05 PM                16 .emulator_console_auth_token\n",
      "30-04-2021  10.44 PM               152 .gitconfig\n",
      "20-11-2021  01.31 PM    <DIR>          .gradle\n",
      "27-04-2021  10.34 AM    <DIR>          .idlerc\n",
      "04-11-2022  01.55 PM    <DIR>          .ipynb_checkpoints\n",
      "20-09-2021  11.55 AM    <DIR>          .ipython\n",
      "15-04-2021  12.24 PM                25 .irb_history\n",
      "15-04-2021  11.55 AM                89 .irbrc\n",
      "14-10-2022  03.06 PM    <DIR>          .jupyter\n",
      "09-10-2022  09.36 AM    <DIR>          .keras\n",
      "04-04-2021  09.32 AM    <DIR>          .kivy\n",
      "23-10-2021  11.00 PM    <DIR>          .matplotlib\n",
      "06-06-2022  09.10 AM    <DIR>          .msvscode.hdinsight\n",
      "09-09-2022  02.37 PM                 3 .node_repl_history\n",
      "30-08-2022  09.22 AM    <DIR>          .p2\n",
      "29-03-2021  04.41 PM               168 .packettracer\n",
      "12-04-2022  03.45 PM               104 .scala_history\n",
      "22-12-2021  03.11 PM    <DIR>          .sonic-pi\n",
      "23-10-2021  11.24 PM    <DIR>          .spyder-py3\n",
      "24-09-2021  10.39 AM    <DIR>          .streamlit\n",
      "08-01-2021  10.29 AM    <DIR>          .thumbnails\n",
      "19-12-2020  10.46 PM    <DIR>          .tooling\n",
      "14-04-2022  09.12 AM    <DIR>          .VirtualBox\n",
      "02-02-2021  08.30 AM    <DIR>          .vscode\n",
      "23-10-2021  09.03 PM               198 _netrc\n",
      "19-12-2020  05.46 PM    <DIR>          3D Objects\n",
      "30-10-2022  08.23 PM             5,507 Assignment_1.ipynb\n",
      "14-10-2022  03.24 PM           226,624 Assignment_3.ipynb\n",
      "10-09-2021  01.21 PM            71,981 battery-report.html\n",
      "02-09-2021  09.44 PM               151 BullseyeCoverageError.txt\n",
      "19-12-2020  05.46 PM    <DIR>          Contacts\n",
      "02-11-2022  09.14 AM    <DIR>          Desktop\n",
      "20-09-2021  11.02 AM    <DIR>          dev\n",
      "29-10-2022  09.49 PM    <DIR>          Documents\n",
      "04-11-2022  01.52 PM    <DIR>          Downloads\n",
      "09-03-2022  11.54 AM    <DIR>          eclipse\n",
      "21-09-2021  04.06 PM    <DIR>          eclipse-workspace\n",
      "19-12-2020  05.46 PM    <DIR>          Favorites\n",
      "14-10-2022  03.23 PM       111,317,416 flowers.h5\n",
      "30-10-2022  08.58 PM       457,840,720 fruit.h5\n",
      "08-10-2022  11.22 AM         2,560,808 get-pip.py\n",
      "14-10-2022  02.45 PM       111,317,320 IBM_flowers.h5\n",
      "30-10-2022  07.58 PM             2,137 Image Processing For Fruit & Vegetable.ipynb\n",
      "05-11-2021  05.47 PM    <DIR>          Intel\n",
      "09-04-2022  11.06 AM           141,111 ippl.csv\n",
      "19-12-2020  05.46 PM    <DIR>          Links\n",
      "30-10-2022  09.02 PM           192,122 Model Building For Fruit Disease Prediction.ipynb\n",
      "30-10-2022  08.30 PM           228,621 Model Building For Fruit Disease Prediction-Copy1.ipynb\n",
      "04-11-2022  01.55 PM           192,122 Model Building For Fruit Disease Prediction-Copy2.ipynb\n",
      "04-11-2022  01.58 PM           199,661 Model Building For Vegetable Disease Prediction.ipynb\n",
      "19-06-2022  08.30 AM    <DIR>          Music\n",
      "14-06-2022  10.22 AM                11 newfile.txt\n",
      "22-08-2021  06.52 PM    <DIR>          newproj\n",
      "30-04-2021  09.58 PM    <DIR>          OneDrive\n",
      "02-08-2022  09.16 AM    <DIR>          Pictures\n",
      "12-07-2022  09.58 AM    <DIR>          Postman\n",
      "09-10-2022  10.18 AM            19,988 Project 3.ipynb\n",
      "14-10-2022  02.46 PM           161,923 Project 3-Copy1.ipynb\n",
      "30-10-2022  08.02 PM            21,967 Project Execution 13_10_2022.ipynb\n",
      "12-10-2022  09.39 AM    <DIR>          PycharmProjects\n",
      "11-04-2022  03.32 PM            24,281 PySpark Check.ipynb\n",
      "09-04-2022  01.32 PM            15,745 Pyspark Pract 1.ipynb\n",
      "19-12-2020  05.46 PM    <DIR>          Saved Games\n",
      "19-12-2020  05.47 PM    <DIR>          Searches\n",
      "30-10-2022  08.02 PM             2,373 Sprint_1.ipynb\n",
      "09-04-2022  02.13 PM             2,469 Untitled.ipynb\n",
      "23-10-2021  11.23 PM             4,435 Untitled1.ipynb\n",
      "03-03-2022  10.09 AM               942 Untitled2.ipynb\n",
      "09-04-2022  01.33 PM            31,471 Untitled3.ipynb\n",
      "09-04-2022  11.59 AM            11,587 Untitled4.ipynb\n",
      "11-04-2022  03.34 PM             1,429 Untitled5.ipynb\n",
      "12-04-2022  02.13 PM                72 Untitled6.ipynb\n",
      "12-04-2022  02.45 PM            16,609 Untitled7.ipynb\n",
      "12-04-2022  04.28 PM            33,108 Untitled8.ipynb\n",
      "15-09-2022  10.57 AM    <DIR>          Videos\n",
      "14-04-2022  09.12 AM    <DIR>          VirtualBox VMs\n",
      "03-03-2022  11.33 AM           262,479 winutils.exe\n",
      "              41 File(s)    684,907,987 bytes\n",
      "              46 Dir(s)  50,753,769,472 bytes free\n"
     ]
    }
   ],
   "source": [
    "ls"
   ]
  },
  {
   "cell_type": "code",
   "execution_count": 2,
   "id": "8924144d",
   "metadata": {},
   "outputs": [
    {
     "data": {
      "text/plain": [
       "'C:\\\\Users\\\\ADMIN'"
      ]
     },
     "execution_count": 2,
     "metadata": {},
     "output_type": "execute_result"
    }
   ],
   "source": [
    "pwd"
   ]
  },
  {
   "cell_type": "markdown",
   "id": "430ca5b2",
   "metadata": {},
   "source": [
    "# Image Augmentation"
   ]
  },
  {
   "cell_type": "code",
   "execution_count": 3,
   "id": "81732729",
   "metadata": {},
   "outputs": [],
   "source": [
    "from tensorflow.keras.preprocessing.image import ImageDataGenerator"
   ]
  },
  {
   "cell_type": "code",
   "execution_count": 4,
   "id": "fa2618a4",
   "metadata": {},
   "outputs": [],
   "source": [
    "train_datagen=ImageDataGenerator(rescale=1./255,zoom_range=0.2,horizontal_flip=True,vertical_flip=False)"
   ]
  },
  {
   "cell_type": "code",
   "execution_count": 5,
   "id": "8c859e9e",
   "metadata": {},
   "outputs": [],
   "source": [
    "test_datagen=ImageDataGenerator(rescale=1./255)"
   ]
  },
  {
   "cell_type": "code",
   "execution_count": 6,
   "id": "fb142509",
   "metadata": {
    "scrolled": true
   },
   "outputs": [
    {
     "name": "stdout",
     "output_type": "stream",
     "text": [
      " Volume in drive C is Operating Sys\n",
      " Volume Serial Number is FA6A-2B90\n",
      "\n",
      " Directory of C:\\Users\\ADMIN\n",
      "\n",
      "04-11-2022  01.58 PM    <DIR>          .\n",
      "04-11-2022  01.58 PM    <DIR>          ..\n",
      "09-10-2022  02.52 PM    <DIR>          .android\n",
      "12-11-2021  01.45 PM    <DIR>          .cache\n",
      "11-04-2022  03.39 PM    <DIR>          .conda\n",
      "05-09-2021  10.48 PM                25 .condarc\n",
      "18-05-2021  05.24 PM    <DIR>          .config\n",
      "05-09-2021  10.48 PM    <DIR>          .continuum\n",
      "12-04-2022  01.37 PM                17 .dotty_history\n",
      "09-09-2021  11.52 PM    <DIR>          .eclipse\n",
      "20-11-2021  02.05 PM                16 .emulator_console_auth_token\n",
      "30-04-2021  10.44 PM               152 .gitconfig\n",
      "20-11-2021  01.31 PM    <DIR>          .gradle\n",
      "27-04-2021  10.34 AM    <DIR>          .idlerc\n",
      "04-11-2022  01.55 PM    <DIR>          .ipynb_checkpoints\n",
      "20-09-2021  11.55 AM    <DIR>          .ipython\n",
      "15-04-2021  12.24 PM                25 .irb_history\n",
      "15-04-2021  11.55 AM                89 .irbrc\n",
      "14-10-2022  03.06 PM    <DIR>          .jupyter\n",
      "09-10-2022  09.36 AM    <DIR>          .keras\n",
      "04-04-2021  09.32 AM    <DIR>          .kivy\n",
      "23-10-2021  11.00 PM    <DIR>          .matplotlib\n",
      "06-06-2022  09.10 AM    <DIR>          .msvscode.hdinsight\n",
      "09-09-2022  02.37 PM                 3 .node_repl_history\n",
      "30-08-2022  09.22 AM    <DIR>          .p2\n",
      "29-03-2021  04.41 PM               168 .packettracer\n",
      "12-04-2022  03.45 PM               104 .scala_history\n",
      "22-12-2021  03.11 PM    <DIR>          .sonic-pi\n",
      "23-10-2021  11.24 PM    <DIR>          .spyder-py3\n",
      "24-09-2021  10.39 AM    <DIR>          .streamlit\n",
      "08-01-2021  10.29 AM    <DIR>          .thumbnails\n",
      "19-12-2020  10.46 PM    <DIR>          .tooling\n",
      "14-04-2022  09.12 AM    <DIR>          .VirtualBox\n",
      "02-02-2021  08.30 AM    <DIR>          .vscode\n",
      "23-10-2021  09.03 PM               198 _netrc\n",
      "19-12-2020  05.46 PM    <DIR>          3D Objects\n",
      "30-10-2022  08.23 PM             5,507 Assignment_1.ipynb\n",
      "14-10-2022  03.24 PM           226,624 Assignment_3.ipynb\n",
      "10-09-2021  01.21 PM            71,981 battery-report.html\n",
      "02-09-2021  09.44 PM               151 BullseyeCoverageError.txt\n",
      "19-12-2020  05.46 PM    <DIR>          Contacts\n",
      "02-11-2022  09.14 AM    <DIR>          Desktop\n",
      "20-09-2021  11.02 AM    <DIR>          dev\n",
      "29-10-2022  09.49 PM    <DIR>          Documents\n",
      "04-11-2022  01.52 PM    <DIR>          Downloads\n",
      "09-03-2022  11.54 AM    <DIR>          eclipse\n",
      "21-09-2021  04.06 PM    <DIR>          eclipse-workspace\n",
      "19-12-2020  05.46 PM    <DIR>          Favorites\n",
      "14-10-2022  03.23 PM       111,317,416 flowers.h5\n",
      "30-10-2022  08.58 PM       457,840,720 fruit.h5\n",
      "08-10-2022  11.22 AM         2,560,808 get-pip.py\n",
      "14-10-2022  02.45 PM       111,317,320 IBM_flowers.h5\n",
      "30-10-2022  07.58 PM             2,137 Image Processing For Fruit & Vegetable.ipynb\n",
      "05-11-2021  05.47 PM    <DIR>          Intel\n",
      "09-04-2022  11.06 AM           141,111 ippl.csv\n",
      "19-12-2020  05.46 PM    <DIR>          Links\n",
      "30-10-2022  09.02 PM           192,122 Model Building For Fruit Disease Prediction.ipynb\n",
      "30-10-2022  08.30 PM           228,621 Model Building For Fruit Disease Prediction-Copy1.ipynb\n",
      "04-11-2022  01.55 PM           192,122 Model Building For Fruit Disease Prediction-Copy2.ipynb\n",
      "04-11-2022  01.58 PM           199,661 Model Building For Vegetable Disease Prediction.ipynb\n",
      "19-06-2022  08.30 AM    <DIR>          Music\n",
      "14-06-2022  10.22 AM                11 newfile.txt\n",
      "22-08-2021  06.52 PM    <DIR>          newproj\n",
      "30-04-2021  09.58 PM    <DIR>          OneDrive\n",
      "02-08-2022  09.16 AM    <DIR>          Pictures\n",
      "12-07-2022  09.58 AM    <DIR>          Postman\n",
      "09-10-2022  10.18 AM            19,988 Project 3.ipynb\n",
      "14-10-2022  02.46 PM           161,923 Project 3-Copy1.ipynb\n",
      "30-10-2022  08.02 PM            21,967 Project Execution 13_10_2022.ipynb\n",
      "12-10-2022  09.39 AM    <DIR>          PycharmProjects\n",
      "11-04-2022  03.32 PM            24,281 PySpark Check.ipynb\n",
      "09-04-2022  01.32 PM            15,745 Pyspark Pract 1.ipynb\n",
      "19-12-2020  05.46 PM    <DIR>          Saved Games\n",
      "19-12-2020  05.47 PM    <DIR>          Searches\n",
      "30-10-2022  08.02 PM             2,373 Sprint_1.ipynb\n",
      "09-04-2022  02.13 PM             2,469 Untitled.ipynb\n",
      "23-10-2021  11.23 PM             4,435 Untitled1.ipynb\n",
      "03-03-2022  10.09 AM               942 Untitled2.ipynb\n",
      "09-04-2022  01.33 PM            31,471 Untitled3.ipynb\n",
      "09-04-2022  11.59 AM            11,587 Untitled4.ipynb\n",
      "11-04-2022  03.34 PM             1,429 Untitled5.ipynb\n",
      "12-04-2022  02.13 PM                72 Untitled6.ipynb\n",
      "12-04-2022  02.45 PM            16,609 Untitled7.ipynb\n",
      "12-04-2022  04.28 PM            33,108 Untitled8.ipynb\n",
      "15-09-2022  10.57 AM    <DIR>          Videos\n",
      "14-04-2022  09.12 AM    <DIR>          VirtualBox VMs\n",
      "03-03-2022  11.33 AM           262,479 winutils.exe\n",
      "              41 File(s)    684,907,987 bytes\n",
      "              46 Dir(s)  50,753,490,944 bytes free\n"
     ]
    }
   ],
   "source": [
    "ls"
   ]
  },
  {
   "cell_type": "code",
   "execution_count": 7,
   "id": "84301a6f",
   "metadata": {},
   "outputs": [
    {
     "data": {
      "text/plain": [
       "'C:\\\\Users\\\\ADMIN'"
      ]
     },
     "execution_count": 7,
     "metadata": {},
     "output_type": "execute_result"
    }
   ],
   "source": [
    "pwd"
   ]
  },
  {
   "cell_type": "code",
   "execution_count": 8,
   "id": "a3152744",
   "metadata": {
    "scrolled": true
   },
   "outputs": [
    {
     "name": "stdout",
     "output_type": "stream",
     "text": [
      "Found 11386 images belonging to 9 classes.\n"
     ]
    }
   ],
   "source": [
    "x_train=train_datagen.flow_from_directory(r\"C:\\Users\\ADMIN\\Desktop\\Plant Disease\\Dataset Plant Disease\\Veg-dataset\\Veg-dataset\\train_set\",target_size=(128,128),\n",
    "                                        class_mode='categorical',batch_size=24)"
   ]
  },
  {
   "cell_type": "code",
   "execution_count": 9,
   "id": "d49657f8",
   "metadata": {},
   "outputs": [
    {
     "name": "stdout",
     "output_type": "stream",
     "text": [
      "Found 3416 images belonging to 9 classes.\n"
     ]
    }
   ],
   "source": [
    "x_test=test_datagen.flow_from_directory(r'C:\\Users\\ADMIN\\Desktop\\Plant Disease\\Dataset Plant Disease\\Veg-dataset\\Veg-dataset\\test_set',target_size=(128,128),\n",
    "                                        class_mode='categorical',batch_size=24)"
   ]
  },
  {
   "cell_type": "code",
   "execution_count": 10,
   "id": "05063329",
   "metadata": {},
   "outputs": [
    {
     "data": {
      "text/plain": [
       "{'Pepper,_bell___Bacterial_spot': 0,\n",
       " 'Pepper,_bell___healthy': 1,\n",
       " 'Potato___Early_blight': 2,\n",
       " 'Potato___Late_blight': 3,\n",
       " 'Potato___healthy': 4,\n",
       " 'Tomato___Bacterial_spot': 5,\n",
       " 'Tomato___Late_blight': 6,\n",
       " 'Tomato___Leaf_Mold': 7,\n",
       " 'Tomato___Septoria_leaf_spot': 8}"
      ]
     },
     "execution_count": 10,
     "metadata": {},
     "output_type": "execute_result"
    }
   ],
   "source": [
    "x_train.class_indices"
   ]
  },
  {
   "cell_type": "markdown",
   "id": "f79aff49",
   "metadata": {},
   "source": [
    "# CNN"
   ]
  },
  {
   "cell_type": "code",
   "execution_count": 11,
   "id": "75d6c964",
   "metadata": {},
   "outputs": [],
   "source": [
    "from tensorflow.keras.models import Sequential\n",
    "from tensorflow.keras.layers import Dense,Convolution2D,MaxPooling2D,Flatten"
   ]
  },
  {
   "cell_type": "code",
   "execution_count": 12,
   "id": "40c64ed2",
   "metadata": {},
   "outputs": [],
   "source": [
    "model=Sequential()"
   ]
  },
  {
   "cell_type": "code",
   "execution_count": 13,
   "id": "16d3f607",
   "metadata": {},
   "outputs": [],
   "source": [
    "model.add(Convolution2D(32,(3,3),input_shape=(128,128,3),activation='relu'))"
   ]
  },
  {
   "cell_type": "code",
   "execution_count": 14,
   "id": "04b13f9c",
   "metadata": {},
   "outputs": [],
   "source": [
    "model.add(MaxPooling2D(pool_size=(2,2)))"
   ]
  },
  {
   "cell_type": "code",
   "execution_count": 15,
   "id": "597c31aa",
   "metadata": {},
   "outputs": [],
   "source": [
    "model.add(Flatten())"
   ]
  },
  {
   "cell_type": "code",
   "execution_count": 16,
   "id": "da080211",
   "metadata": {},
   "outputs": [
    {
     "name": "stdout",
     "output_type": "stream",
     "text": [
      "Model: \"sequential\"\n",
      "_________________________________________________________________\n",
      " Layer (type)                Output Shape              Param #   \n",
      "=================================================================\n",
      " conv2d (Conv2D)             (None, 126, 126, 32)      896       \n",
      "                                                                 \n",
      " max_pooling2d (MaxPooling2D  (None, 63, 63, 32)       0         \n",
      " )                                                               \n",
      "                                                                 \n",
      " flatten (Flatten)           (None, 127008)            0         \n",
      "                                                                 \n",
      "=================================================================\n",
      "Total params: 896\n",
      "Trainable params: 896\n",
      "Non-trainable params: 0\n",
      "_________________________________________________________________\n"
     ]
    }
   ],
   "source": [
    "model.summary()"
   ]
  },
  {
   "cell_type": "markdown",
   "id": "ed3cb9d6",
   "metadata": {},
   "source": [
    "# Hidden Layers"
   ]
  },
  {
   "cell_type": "code",
   "execution_count": 17,
   "id": "565ba05f",
   "metadata": {},
   "outputs": [],
   "source": [
    "model.add(Dense(300,activation='relu'))\n",
    "model.add(Dense(150,activation='relu'))"
   ]
  },
  {
   "cell_type": "markdown",
   "id": "e3a17971",
   "metadata": {},
   "source": [
    "# Output Layer"
   ]
  },
  {
   "cell_type": "code",
   "execution_count": 18,
   "id": "7ff82132",
   "metadata": {},
   "outputs": [],
   "source": [
    "model.add(Dense(6,activation='softmax'))"
   ]
  },
  {
   "cell_type": "code",
   "execution_count": 19,
   "id": "fd978485",
   "metadata": {},
   "outputs": [],
   "source": [
    "model.compile(loss='categorical_crossentropy',optimizer='adam',metrics=['accuracy'])"
   ]
  },
  {
   "cell_type": "code",
   "execution_count": 20,
   "id": "5e5af0ec",
   "metadata": {},
   "outputs": [
    {
     "data": {
      "text/plain": [
       "475"
      ]
     },
     "execution_count": 20,
     "metadata": {},
     "output_type": "execute_result"
    }
   ],
   "source": [
    "len(x_train)"
   ]
  },
  {
   "cell_type": "code",
   "execution_count": 21,
   "id": "158a8e97",
   "metadata": {},
   "outputs": [
    {
     "data": {
      "text/plain": [
       "51.583333333333336"
      ]
     },
     "execution_count": 21,
     "metadata": {},
     "output_type": "execute_result"
    }
   ],
   "source": [
    "1238/24"
   ]
  },
  {
   "cell_type": "markdown",
   "id": "c3486ec8",
   "metadata": {},
   "source": [
    "# Saving Model"
   ]
  },
  {
   "cell_type": "code",
   "execution_count": 22,
   "id": "60f3ffd9",
   "metadata": {},
   "outputs": [
    {
     "name": "stdout",
     "output_type": "stream",
     "text": [
      " Volume in drive C is Operating Sys\n",
      " Volume Serial Number is FA6A-2B90\n",
      "\n",
      " Directory of C:\\Users\\ADMIN\n",
      "\n",
      "04-11-2022  02.02 PM    <DIR>          .\n",
      "04-11-2022  02.02 PM    <DIR>          ..\n",
      "09-10-2022  02.52 PM    <DIR>          .android\n",
      "12-11-2021  01.45 PM    <DIR>          .cache\n",
      "11-04-2022  03.39 PM    <DIR>          .conda\n",
      "05-09-2021  10.48 PM                25 .condarc\n",
      "18-05-2021  05.24 PM    <DIR>          .config\n",
      "05-09-2021  10.48 PM    <DIR>          .continuum\n",
      "12-04-2022  01.37 PM                17 .dotty_history\n",
      "09-09-2021  11.52 PM    <DIR>          .eclipse\n",
      "20-11-2021  02.05 PM                16 .emulator_console_auth_token\n",
      "30-04-2021  10.44 PM               152 .gitconfig\n",
      "20-11-2021  01.31 PM    <DIR>          .gradle\n",
      "27-04-2021  10.34 AM    <DIR>          .idlerc\n",
      "04-11-2022  01.55 PM    <DIR>          .ipynb_checkpoints\n",
      "20-09-2021  11.55 AM    <DIR>          .ipython\n",
      "15-04-2021  12.24 PM                25 .irb_history\n",
      "15-04-2021  11.55 AM                89 .irbrc\n",
      "14-10-2022  03.06 PM    <DIR>          .jupyter\n",
      "09-10-2022  09.36 AM    <DIR>          .keras\n",
      "04-04-2021  09.32 AM    <DIR>          .kivy\n",
      "23-10-2021  11.00 PM    <DIR>          .matplotlib\n",
      "06-06-2022  09.10 AM    <DIR>          .msvscode.hdinsight\n",
      "09-09-2022  02.37 PM                 3 .node_repl_history\n",
      "30-08-2022  09.22 AM    <DIR>          .p2\n",
      "29-03-2021  04.41 PM               168 .packettracer\n",
      "12-04-2022  03.45 PM               104 .scala_history\n",
      "22-12-2021  03.11 PM    <DIR>          .sonic-pi\n",
      "23-10-2021  11.24 PM    <DIR>          .spyder-py3\n",
      "24-09-2021  10.39 AM    <DIR>          .streamlit\n",
      "08-01-2021  10.29 AM    <DIR>          .thumbnails\n",
      "19-12-2020  10.46 PM    <DIR>          .tooling\n",
      "14-04-2022  09.12 AM    <DIR>          .VirtualBox\n",
      "02-02-2021  08.30 AM    <DIR>          .vscode\n",
      "23-10-2021  09.03 PM               198 _netrc\n",
      "19-12-2020  05.46 PM    <DIR>          3D Objects\n",
      "30-10-2022  08.23 PM             5,507 Assignment_1.ipynb\n",
      "14-10-2022  03.24 PM           226,624 Assignment_3.ipynb\n",
      "10-09-2021  01.21 PM            71,981 battery-report.html\n",
      "02-09-2021  09.44 PM               151 BullseyeCoverageError.txt\n",
      "19-12-2020  05.46 PM    <DIR>          Contacts\n",
      "02-11-2022  09.14 AM    <DIR>          Desktop\n",
      "20-09-2021  11.02 AM    <DIR>          dev\n",
      "29-10-2022  09.49 PM    <DIR>          Documents\n",
      "04-11-2022  01.52 PM    <DIR>          Downloads\n",
      "09-03-2022  11.54 AM    <DIR>          eclipse\n",
      "21-09-2021  04.06 PM    <DIR>          eclipse-workspace\n",
      "19-12-2020  05.46 PM    <DIR>          Favorites\n",
      "14-10-2022  03.23 PM       111,317,416 flowers.h5\n",
      "30-10-2022  08.58 PM       457,840,720 fruit.h5\n",
      "08-10-2022  11.22 AM         2,560,808 get-pip.py\n",
      "14-10-2022  02.45 PM       111,317,320 IBM_flowers.h5\n",
      "30-10-2022  07.58 PM             2,137 Image Processing For Fruit & Vegetable.ipynb\n",
      "05-11-2021  05.47 PM    <DIR>          Intel\n",
      "09-04-2022  11.06 AM           141,111 ippl.csv\n",
      "19-12-2020  05.46 PM    <DIR>          Links\n",
      "30-10-2022  09.02 PM           192,122 Model Building For Fruit Disease Prediction.ipynb\n",
      "30-10-2022  08.30 PM           228,621 Model Building For Fruit Disease Prediction-Copy1.ipynb\n",
      "04-11-2022  01.55 PM           192,122 Model Building For Fruit Disease Prediction-Copy2.ipynb\n",
      "04-11-2022  02.02 PM           209,383 Model Building For Vegetable Disease Prediction.ipynb\n",
      "19-06-2022  08.30 AM    <DIR>          Music\n",
      "14-06-2022  10.22 AM                11 newfile.txt\n",
      "22-08-2021  06.52 PM    <DIR>          newproj\n",
      "30-04-2021  09.58 PM    <DIR>          OneDrive\n",
      "02-08-2022  09.16 AM    <DIR>          Pictures\n",
      "12-07-2022  09.58 AM    <DIR>          Postman\n",
      "09-10-2022  10.18 AM            19,988 Project 3.ipynb\n",
      "14-10-2022  02.46 PM           161,923 Project 3-Copy1.ipynb\n",
      "30-10-2022  08.02 PM            21,967 Project Execution 13_10_2022.ipynb\n",
      "12-10-2022  09.39 AM    <DIR>          PycharmProjects\n",
      "11-04-2022  03.32 PM            24,281 PySpark Check.ipynb\n",
      "09-04-2022  01.32 PM            15,745 Pyspark Pract 1.ipynb\n",
      "19-12-2020  05.46 PM    <DIR>          Saved Games\n",
      "19-12-2020  05.47 PM    <DIR>          Searches\n",
      "30-10-2022  08.02 PM             2,373 Sprint_1.ipynb\n",
      "09-04-2022  02.13 PM             2,469 Untitled.ipynb\n",
      "23-10-2021  11.23 PM             4,435 Untitled1.ipynb\n",
      "03-03-2022  10.09 AM               942 Untitled2.ipynb\n",
      "09-04-2022  01.33 PM            31,471 Untitled3.ipynb\n",
      "09-04-2022  11.59 AM            11,587 Untitled4.ipynb\n",
      "11-04-2022  03.34 PM             1,429 Untitled5.ipynb\n",
      "12-04-2022  02.13 PM                72 Untitled6.ipynb\n",
      "12-04-2022  02.45 PM            16,609 Untitled7.ipynb\n",
      "12-04-2022  04.28 PM            33,108 Untitled8.ipynb\n",
      "15-09-2022  10.57 AM    <DIR>          Videos\n",
      "14-04-2022  09.12 AM    <DIR>          VirtualBox VMs\n",
      "03-03-2022  11.33 AM           262,479 winutils.exe\n",
      "              41 File(s)    684,917,709 bytes\n",
      "              46 Dir(s)  50,517,286,912 bytes free\n"
     ]
    }
   ],
   "source": [
    "ls"
   ]
  },
  {
   "cell_type": "code",
   "execution_count": 23,
   "id": "25455eb9",
   "metadata": {},
   "outputs": [],
   "source": [
    "model.save('vegetable.h5')"
   ]
  },
  {
   "cell_type": "markdown",
   "id": "cb1f61cf",
   "metadata": {},
   "source": [
    "# Test The Model"
   ]
  },
  {
   "cell_type": "code",
   "execution_count": 26,
   "id": "d79cb58a",
   "metadata": {},
   "outputs": [],
   "source": [
    "import numpy as np\n",
    "from tensorflow.keras.models import load_model\n",
    "from tensorflow.keras.preprocessing import image"
   ]
  },
  {
   "cell_type": "code",
   "execution_count": 27,
   "id": "09549a24",
   "metadata": {},
   "outputs": [
    {
     "name": "stdout",
     "output_type": "stream",
     "text": [
      " Volume in drive C is Operating Sys\n",
      " Volume Serial Number is FA6A-2B90\n",
      "\n",
      " Directory of C:\\Users\\ADMIN\n",
      "\n",
      "04-11-2022  02.02 PM    <DIR>          .\n",
      "04-11-2022  02.02 PM    <DIR>          ..\n",
      "09-10-2022  02.52 PM    <DIR>          .android\n",
      "12-11-2021  01.45 PM    <DIR>          .cache\n",
      "11-04-2022  03.39 PM    <DIR>          .conda\n",
      "05-09-2021  10.48 PM                25 .condarc\n",
      "18-05-2021  05.24 PM    <DIR>          .config\n",
      "05-09-2021  10.48 PM    <DIR>          .continuum\n",
      "12-04-2022  01.37 PM                17 .dotty_history\n",
      "09-09-2021  11.52 PM    <DIR>          .eclipse\n",
      "20-11-2021  02.05 PM                16 .emulator_console_auth_token\n",
      "30-04-2021  10.44 PM               152 .gitconfig\n",
      "20-11-2021  01.31 PM    <DIR>          .gradle\n",
      "27-04-2021  10.34 AM    <DIR>          .idlerc\n",
      "04-11-2022  01.55 PM    <DIR>          .ipynb_checkpoints\n",
      "20-09-2021  11.55 AM    <DIR>          .ipython\n",
      "15-04-2021  12.24 PM                25 .irb_history\n",
      "15-04-2021  11.55 AM                89 .irbrc\n",
      "14-10-2022  03.06 PM    <DIR>          .jupyter\n",
      "09-10-2022  09.36 AM    <DIR>          .keras\n",
      "04-04-2021  09.32 AM    <DIR>          .kivy\n",
      "23-10-2021  11.00 PM    <DIR>          .matplotlib\n",
      "06-06-2022  09.10 AM    <DIR>          .msvscode.hdinsight\n",
      "09-09-2022  02.37 PM                 3 .node_repl_history\n",
      "30-08-2022  09.22 AM    <DIR>          .p2\n",
      "29-03-2021  04.41 PM               168 .packettracer\n",
      "12-04-2022  03.45 PM               104 .scala_history\n",
      "22-12-2021  03.11 PM    <DIR>          .sonic-pi\n",
      "23-10-2021  11.24 PM    <DIR>          .spyder-py3\n",
      "24-09-2021  10.39 AM    <DIR>          .streamlit\n",
      "08-01-2021  10.29 AM    <DIR>          .thumbnails\n",
      "19-12-2020  10.46 PM    <DIR>          .tooling\n",
      "14-04-2022  09.12 AM    <DIR>          .VirtualBox\n",
      "02-02-2021  08.30 AM    <DIR>          .vscode\n",
      "23-10-2021  09.03 PM               198 _netrc\n",
      "19-12-2020  05.46 PM    <DIR>          3D Objects\n",
      "30-10-2022  08.23 PM             5,507 Assignment_1.ipynb\n",
      "14-10-2022  03.24 PM           226,624 Assignment_3.ipynb\n",
      "10-09-2021  01.21 PM            71,981 battery-report.html\n",
      "02-09-2021  09.44 PM               151 BullseyeCoverageError.txt\n",
      "19-12-2020  05.46 PM    <DIR>          Contacts\n",
      "02-11-2022  09.14 AM    <DIR>          Desktop\n",
      "20-09-2021  11.02 AM    <DIR>          dev\n",
      "29-10-2022  09.49 PM    <DIR>          Documents\n",
      "04-11-2022  01.52 PM    <DIR>          Downloads\n",
      "09-03-2022  11.54 AM    <DIR>          eclipse\n",
      "21-09-2021  04.06 PM    <DIR>          eclipse-workspace\n",
      "19-12-2020  05.46 PM    <DIR>          Favorites\n",
      "14-10-2022  03.23 PM       111,317,416 flowers.h5\n",
      "30-10-2022  08.58 PM       457,840,720 fruit.h5\n",
      "08-10-2022  11.22 AM         2,560,808 get-pip.py\n",
      "14-10-2022  02.45 PM       111,317,320 IBM_flowers.h5\n",
      "30-10-2022  07.58 PM             2,137 Image Processing For Fruit & Vegetable.ipynb\n",
      "05-11-2021  05.47 PM    <DIR>          Intel\n",
      "09-04-2022  11.06 AM           141,111 ippl.csv\n",
      "19-12-2020  05.46 PM    <DIR>          Links\n",
      "30-10-2022  09.02 PM           192,122 Model Building For Fruit Disease Prediction.ipynb\n",
      "30-10-2022  08.30 PM           228,621 Model Building For Fruit Disease Prediction-Copy1.ipynb\n",
      "04-11-2022  01.55 PM           192,122 Model Building For Fruit Disease Prediction-Copy2.ipynb\n",
      "04-11-2022  02.02 PM           209,383 Model Building For Vegetable Disease Prediction.ipynb\n",
      "19-06-2022  08.30 AM    <DIR>          Music\n",
      "14-06-2022  10.22 AM                11 newfile.txt\n",
      "22-08-2021  06.52 PM    <DIR>          newproj\n",
      "30-04-2021  09.58 PM    <DIR>          OneDrive\n",
      "02-08-2022  09.16 AM    <DIR>          Pictures\n",
      "12-07-2022  09.58 AM    <DIR>          Postman\n",
      "09-10-2022  10.18 AM            19,988 Project 3.ipynb\n",
      "14-10-2022  02.46 PM           161,923 Project 3-Copy1.ipynb\n",
      "30-10-2022  08.02 PM            21,967 Project Execution 13_10_2022.ipynb\n",
      "12-10-2022  09.39 AM    <DIR>          PycharmProjects\n",
      "11-04-2022  03.32 PM            24,281 PySpark Check.ipynb\n",
      "09-04-2022  01.32 PM            15,745 Pyspark Pract 1.ipynb\n",
      "19-12-2020  05.46 PM    <DIR>          Saved Games\n",
      "19-12-2020  05.47 PM    <DIR>          Searches\n",
      "30-10-2022  08.02 PM             2,373 Sprint_1.ipynb\n",
      "09-04-2022  02.13 PM             2,469 Untitled.ipynb\n",
      "23-10-2021  11.23 PM             4,435 Untitled1.ipynb\n",
      "03-03-2022  10.09 AM               942 Untitled2.ipynb\n",
      "09-04-2022  01.33 PM            31,471 Untitled3.ipynb\n",
      "09-04-2022  11.59 AM            11,587 Untitled4.ipynb\n",
      "11-04-2022  03.34 PM             1,429 Untitled5.ipynb\n",
      "12-04-2022  02.13 PM                72 Untitled6.ipynb\n",
      "12-04-2022  02.45 PM            16,609 Untitled7.ipynb\n",
      "12-04-2022  04.28 PM            33,108 Untitled8.ipynb\n",
      "04-11-2022  02.02 PM       152,619,128 vegetable.h5\n",
      "15-09-2022  10.57 AM    <DIR>          Videos\n",
      "14-04-2022  09.12 AM    <DIR>          VirtualBox VMs\n",
      "03-03-2022  11.33 AM           262,479 winutils.exe\n",
      "              42 File(s)    837,536,837 bytes\n",
      "              46 Dir(s)  50,364,366,848 bytes free\n"
     ]
    }
   ],
   "source": [
    "ls"
   ]
  },
  {
   "cell_type": "code",
   "execution_count": 28,
   "id": "d1502209",
   "metadata": {},
   "outputs": [],
   "source": [
    "model=load_model('vegetable.h5')"
   ]
  },
  {
   "cell_type": "code",
   "execution_count": 29,
   "id": "24c26a71",
   "metadata": {},
   "outputs": [],
   "source": [
    "img=image.load_img(r\"C:\\Users\\ADMIN\\Desktop\\Plant Disease\\Dataset Plant Disease\\Veg-dataset\\Veg-dataset\\test_set\\Pepper,_bell___Bacterial_spot\\ad921dec-e88f-41d8-9455-0880c69063fc___NREC_B.Spot 9216.JPG\")"
   ]
  },
  {
   "cell_type": "code",
   "execution_count": 30,
   "id": "1131f653",
   "metadata": {},
   "outputs": [
    {
     "data": {
      "image/png": "[encoded data removed]",
      "text/plain": [
       "<PIL.JpegImagePlugin.JpegImageFile image mode=RGB size=256x256>"
      ]
     },
     "execution_count": 30,
     "metadata": {},
     "output_type": "execute_result"
    }
   ],
   "source": [
    "img"
   ]
  },
  {
   "cell_type": "code",
   "execution_count": 32,
   "id": "e2bc10da",
   "metadata": {},
   "outputs": [
    {
     "data": {
      "image/png": "[encoded data removed]",
      "text/plain": [
       "<PIL.Image.Image image mode=RGB size=128x128>"
      ]
     },
     "execution_count": 32,
     "metadata": {},
     "output_type": "execute_result"
    }
   ],
   "source": [
    "img=image.load_img(r\"C:\\Users\\ADMIN\\Desktop\\Plant Disease\\Dataset Plant Disease\\Veg-dataset\\Veg-dataset\\test_set\\Pepper,_bell___Bacterial_spot\\ad921dec-e88f-41d8-9455-0880c69063fc___NREC_B.Spot 9216.JPG\",target_size=(128,128))\n",
    "img"
   ]
  },
  {
   "cell_type": "code",
   "execution_count": 33,
   "id": "a8c326e9",
   "metadata": {},
   "outputs": [],
   "source": [
    "x=image.img_to_array(img)"
   ]
  },
  {
   "cell_type": "code",
   "execution_count": 34,
   "id": "ec24f814",
   "metadata": {},
   "outputs": [
    {
     "data": {
      "text/plain": [
       "array([[[157., 150., 157.],\n",
       "        [155., 148., 155.],\n",
       "        [157., 150., 157.],\n",
       "        ...,\n",
       "        [138., 131., 138.],\n",
       "        [135., 128., 135.],\n",
       "        [134., 127., 134.]],\n",
       "\n",
       "       [[157., 150., 157.],\n",
       "        [159., 152., 159.],\n",
       "        [158., 151., 158.],\n",
       "        ...,\n",
       "        [141., 134., 141.],\n",
       "        [137., 130., 137.],\n",
       "        [135., 128., 135.]],\n",
       "\n",
       "       [[165., 158., 165.],\n",
       "        [167., 160., 167.],\n",
       "        [166., 159., 166.],\n",
       "        ...,\n",
       "        [138., 131., 138.],\n",
       "        [136., 129., 136.],\n",
       "        [138., 131., 138.]],\n",
       "\n",
       "       ...,\n",
       "\n",
       "       [[176., 170., 170.],\n",
       "        [174., 168., 168.],\n",
       "        [176., 170., 170.],\n",
       "        ...,\n",
       "        [138., 126., 128.],\n",
       "        [141., 129., 131.],\n",
       "        [146., 134., 136.]],\n",
       "\n",
       "       [[177., 171., 171.],\n",
       "        [178., 172., 172.],\n",
       "        [176., 170., 170.],\n",
       "        ...,\n",
       "        [144., 132., 134.],\n",
       "        [151., 139., 141.],\n",
       "        [137., 125., 127.]],\n",
       "\n",
       "       [[180., 174., 174.],\n",
       "        [180., 174., 174.],\n",
       "        [176., 170., 170.],\n",
       "        ...,\n",
       "        [137., 125., 127.],\n",
       "        [134., 122., 124.],\n",
       "        [138., 126., 128.]]], dtype=float32)"
      ]
     },
     "execution_count": 34,
     "metadata": {},
     "output_type": "execute_result"
    }
   ],
   "source": [
    "x"
   ]
  },
  {
   "cell_type": "code",
   "execution_count": 35,
   "id": "8652b76a",
   "metadata": {},
   "outputs": [],
   "source": [
    "x=np.expand_dims(x,axis=0)"
   ]
  },
  {
   "cell_type": "code",
   "execution_count": 36,
   "id": "e2435ef6",
   "metadata": {},
   "outputs": [
    {
     "data": {
      "text/plain": [
       "array([[[[157., 150., 157.],\n",
       "         [155., 148., 155.],\n",
       "         [157., 150., 157.],\n",
       "         ...,\n",
       "         [138., 131., 138.],\n",
       "         [135., 128., 135.],\n",
       "         [134., 127., 134.]],\n",
       "\n",
       "        [[157., 150., 157.],\n",
       "         [159., 152., 159.],\n",
       "         [158., 151., 158.],\n",
       "         ...,\n",
       "         [141., 134., 141.],\n",
       "         [137., 130., 137.],\n",
       "         [135., 128., 135.]],\n",
       "\n",
       "        [[165., 158., 165.],\n",
       "         [167., 160., 167.],\n",
       "         [166., 159., 166.],\n",
       "         ...,\n",
       "         [138., 131., 138.],\n",
       "         [136., 129., 136.],\n",
       "         [138., 131., 138.]],\n",
       "\n",
       "        ...,\n",
       "\n",
       "        [[176., 170., 170.],\n",
       "         [174., 168., 168.],\n",
       "         [176., 170., 170.],\n",
       "         ...,\n",
       "         [138., 126., 128.],\n",
       "         [141., 129., 131.],\n",
       "         [146., 134., 136.]],\n",
       "\n",
       "        [[177., 171., 171.],\n",
       "         [178., 172., 172.],\n",
       "         [176., 170., 170.],\n",
       "         ...,\n",
       "         [144., 132., 134.],\n",
       "         [151., 139., 141.],\n",
       "         [137., 125., 127.]],\n",
       "\n",
       "        [[180., 174., 174.],\n",
       "         [180., 174., 174.],\n",
       "         [176., 170., 170.],\n",
       "         ...,\n",
       "         [137., 125., 127.],\n",
       "         [134., 122., 124.],\n",
       "         [138., 126., 128.]]]], dtype=float32)"
      ]
     },
     "execution_count": 36,
     "metadata": {},
     "output_type": "execute_result"
    }
   ],
   "source": [
    "x"
   ]
  },
  {
   "cell_type": "code",
   "execution_count": 37,
   "id": "81f251d8",
   "metadata": {},
   "outputs": [
    {
     "name": "stdout",
     "output_type": "stream",
     "text": [
      "1/1 [==============================] - 1s 533ms/step\n"
     ]
    }
   ],
   "source": [
    "y=np.argmax(model.predict(x),axis=1)"
   ]
  },
  {
   "cell_type": "code",
   "execution_count": 38,
   "id": "7ae3d6e7",
   "metadata": {},
   "outputs": [
    {
     "data": {
      "text/plain": [
       "{'Pepper,_bell___Bacterial_spot': 0,\n",
       " 'Pepper,_bell___healthy': 1,\n",
       " 'Potato___Early_blight': 2,\n",
       " 'Potato___Late_blight': 3,\n",
       " 'Potato___healthy': 4,\n",
       " 'Tomato___Bacterial_spot': 5,\n",
       " 'Tomato___Late_blight': 6,\n",
       " 'Tomato___Leaf_Mold': 7,\n",
       " 'Tomato___Septoria_leaf_spot': 8}"
      ]
     },
     "execution_count": 38,
     "metadata": {},
     "output_type": "execute_result"
    }
   ],
   "source": [
    "x_train.class_indices"
   ]
  },
  {
   "cell_type": "code",
   "execution_count": 39,
   "id": "c5e7f3bb",
   "metadata": {},
   "outputs": [],
   "source": [
    "index=['Pepper,_bell___Bacterial_spot','Pepper,_bell___healthy','Potato___Early_blight','Potato___Late_blight','Potato___healthy','Tomato___Bacterial_spot','Tomato___Late_blight','Tomato___Leaf_Mold','Tomato___Septoria_leaf_spot']\n"
   ]
  },
  {
   "cell_type": "code",
   "execution_count": 40,
   "id": "6ceb32db",
   "metadata": {},
   "outputs": [
    {
     "data": {
      "text/plain": [
       "'Potato___Early_blight'"
      ]
     },
     "execution_count": 40,
     "metadata": {},
     "output_type": "execute_result"
    }
   ],
   "source": [
    "index[y[0]]"
   ]
  },
  {
   "cell_type": "code",
   "execution_count": 42,
   "id": "637aa286",
   "metadata": {},
   "outputs": [
    {
     "name": "stdout",
     "output_type": "stream",
     "text": [
      "1/1 [==============================] - 0s 60ms/step\n"
     ]
    },
    {
     "data": {
      "text/plain": [
       "'Potato___Early_blight'"
      ]
     },
     "execution_count": 42,
     "metadata": {},
     "output_type": "execute_result"
    }
   ],
   "source": [
    "img=image.load_img(r\"C:\\Users\\ADMIN\\Desktop\\Plant Disease\\Dataset Plant Disease\\Veg-dataset\\Veg-dataset\\test_set\\Tomato___Septoria_leaf_spot\\c551c562-b93a-4b2e-9058-12519414b3ff___Matt.S_CG 2882.JPG\",target_size=(128,128))\n",
    "x=image.img_to_array(img)\n",
    "x=np.expand_dims(x,axis=0)\n",
    "y=np.argmax(model.predict(x),axis=1)\n",
    "index=['Pepper,_bell___Bacterial_spot','Pepper,_bell___healthy','Potato___Early_blight','Potato___Late_blight','Potato___healthy','Tomato___Bacterial_spot','Tomato___Leaf_Mold','Tomato___Septoria_leaf_spot']\n",
    "index[y[0]]"
   ]
  }
 ],
 "metadata": {
  "kernelspec": {
   "display_name": "Python 3 (ipykernel)",
   "language": "python",
   "name": "python3"
  },
  "language_info": {
   "codemirror_mode": {
    "name": "ipython",
    "version": 3
   },
   "file_extension": ".py",
   "mimetype": "text/x-python",
   "name": "python",
   "nbconvert_exporter": "python",
   "pygments_lexer": "ipython3",
   "version": "3.10.7"
  }
 },
 "nbformat": 4,
 "nbformat_minor": 5
}
