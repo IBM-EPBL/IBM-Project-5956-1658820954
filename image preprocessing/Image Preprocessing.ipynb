{
 "cells": [
  {
   "cell_type": "markdown",
   "id": "ff282ca2",
   "metadata": {},
   "source": [
    "# Preprocess The Images"
   ]
  },
  {
   "cell_type": "markdown",
   "id": "30730961",
   "metadata": {},
   "source": [
    "Image Pre-processing includes the following main tasks "
   ]
  },
  {
   "cell_type": "markdown",
   "id": "4b0587bd",
   "metadata": {},
   "source": [
    "# Import ImageDataGenerator Library "
   ]
  },
  {
   "cell_type": "code",
   "execution_count": 11,
   "id": "139aa7ea",
   "metadata": {},
   "outputs": [],
   "source": [
    "from keras.preprocessing.image import ImageDataGenerator"
   ]
  },
  {
   "cell_type": "markdown",
   "id": "c827ad7b",
   "metadata": {},
   "source": [
    "# Configure ImageDataGenerator Class"
   ]
  },
  {
   "cell_type": "code",
   "execution_count": 12,
   "id": "5abbe2c5",
   "metadata": {},
   "outputs": [],
   "source": [
    "train_datagen = ImageDataGenerator(rescale = 1./255,shear_range=0.2,zoom_range=0.2,horizontal_flip= True)\n",
    "test_datagen = ImageDataGenerator(rescale = 1)"
   ]
  },
  {
   "cell_type": "markdown",
   "id": "7bba19d2",
   "metadata": {},
   "source": [
    "# Applying ImageDataGenerator Functionality To The Train set And Test set."
   ]
  },
  {
   "cell_type": "code",
   "execution_count": 13,
   "id": "336762ce",
   "metadata": {},
   "outputs": [
    {
     "name": "stdout",
     "output_type": "stream",
     "text": [
      "Found 5384 images belonging to 6 classes.\n",
      "Found 1686 images belonging to 6 classes.\n"
     ]
    }
   ],
   "source": [
    "x_train = train_datagen.flow_from_directory(r'E:\\Fertilizer\\Dataset\\Dataset Plant Disease\\fruit-dataset\\fruit-dataset\\train',\n",
    "                                           target_size = (128,128),batch_size= 32,class_mode = 'categorical')\n",
    "x_test = test_datagen.flow_from_directory(r'E:\\Fertilizer\\Dataset\\Dataset Plant Disease\\fruit-dataset\\fruit-dataset\\test',\n",
    "                                           target_size = (128,128),batch_size= 32,class_mode = 'categorical')"
   ]
  }
 ],
 "metadata": {
  "kernelspec": {
   "display_name": "Python 3 (ipykernel)",
   "language": "python",
   "name": "python3"
  },
  "language_info": {
   "codemirror_mode": {
    "name": "ipython",
    "version": 3
   },
   "file_extension": ".py",
   "mimetype": "text/x-python",
   "name": "python",
   "nbconvert_exporter": "python",
   "pygments_lexer": "ipython3",
   "version": "3.10.7"
  }
 },
 "nbformat": 4,
 "nbformat_minor": 5
}
